{
 "cells": [
  {
   "cell_type": "markdown",
   "metadata": {},
   "source": [
    "Grafik Hexagonal Binned vo dan uo"
   ]
  },
  {
   "cell_type": "code",
   "execution_count": null,
   "metadata": {},
   "outputs": [],
   "source": [
    "!pip install netCDF4\n",
    "!pip install matplotlib\n",
    "!pip install numpy"
   ]
  },
  {
   "cell_type": "code",
   "execution_count": null,
   "metadata": {},
   "outputs": [],
   "source": [
    "\n",
    "import netCDF4 as nc\n",
    "import matplotlib.pyplot as plt\n",
    "import numpy as np"
   ]
  },
  {
   "cell_type": "markdown",
   "metadata": {},
   "source": [
    "Mengambil data"
   ]
  },
  {
   "cell_type": "code",
   "execution_count": null,
   "metadata": {},
   "outputs": [],
   "source": [
    "data = r'C:\\Users\\surya\\Downloads\\global-analysis-forecast-phy-001-024_1668127733073.nc'\n",
    "fh = nc.Dataset(data)\n",
    "\n",
    "lon = np.array(fh.variables['longitude'][:], dtype=np.float32)\n",
    "lat = np.array(fh.variables['latitude'][:], dtype=np.float32)\n",
    "time = np.array(fh.variables['time'][:], dtype=np.float32)\n",
    "depth = np.array(fh.variables['depth'][:], dtype=np.float32)\n",
    "vo = np.array(fh.variables['vo'][0,:], dtype=np.int16)\n",
    "uo = np.array(fh.variables['uo'][0,:], dtype=np.int16)\n"
   ]
  },
  {
   "cell_type": "markdown",
   "metadata": {},
   "source": [
    "Plotting"
   ]
  },
  {
   "cell_type": "code",
   "execution_count": null,
   "metadata": {},
   "outputs": [],
   "source": [
    "speed = fh['vo'][0][0][0][:]\n",
    "speed2 = fh['uo'][0][0][0][:]\n",
    "lon = fh['longitude'][:]\n",
    "lat = fh['latitude'][:]\n",
    "fig, ax = plt.subplots()\n",
    "\n",
    "ax.hexbin([lon ,lon], [speed, speed2], gridsize=110, cmap = 'inferno' )\n",
    "ax.secondary_yaxis(location= 'right')\n",
    "plt.xlabel('longitude') \n",
    "plt.ylabel('Northward velocity & Eastward velocity (m/s)')\n",
    "plt.show()"
   ]
  }
 ],
 "metadata": {
  "kernelspec": {
   "display_name": "Python 3.9.13 ('base')",
   "language": "python",
   "name": "python3"
  },
  "language_info": {
   "name": "python",
   "version": "3.9.13"
  },
  "orig_nbformat": 4,
  "vscode": {
   "interpreter": {
    "hash": "ad2bdc8ecc057115af97d19610ffacc2b4e99fae6737bb82f5d7fb13d2f2c186"
   }
  }
 },
 "nbformat": 4,
 "nbformat_minor": 2
}
